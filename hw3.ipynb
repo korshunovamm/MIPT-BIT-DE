{
 "cells": [
  {
   "cell_type": "markdown",
   "id": "e551a333",
   "metadata": {},
   "source": [
    "### Инициализация SparkSession"
   ]
  },
  {
   "cell_type": "code",
   "execution_count": 51,
   "id": "713d670b",
   "metadata": {},
   "outputs": [
    {
     "name": "stdout",
     "output_type": "stream",
     "text": [
      "Spark version: 3.5.5\n"
     ]
    }
   ],
   "source": [
    "import findspark\n",
    "findspark.init()              \n",
    "\n",
    "from pyspark.sql import SparkSession\n",
    "\n",
    "spark = (\n",
    "    SparkSession.builder\n",
    "    .appName(\"HW-3-Hotel\")\n",
    "    .getOrCreate()\n",
    ")\n",
    "\n",
    "spark.conf.set(\"spark.sql.session.timeZone\", \"UTC\")  # фиксируем таймзону\n",
    "print(\"Spark version:\", spark.version)\n"
   ]
  },
  {
   "cell_type": "markdown",
   "id": "529d3983",
   "metadata": {},
   "source": [
    "### Данные"
   ]
  },
  {
   "cell_type": "code",
   "execution_count": 52,
   "id": "fd804a1e",
   "metadata": {},
   "outputs": [
    {
     "name": "stdout",
     "output_type": "stream",
     "text": [
      "root\n",
      " |-- ID: string (nullable = true)\n",
      " |-- n_adults: integer (nullable = true)\n",
      " |-- n_children: integer (nullable = true)\n",
      " |-- weekend_nights: integer (nullable = true)\n",
      " |-- week_nights: integer (nullable = true)\n",
      " |-- meal_plan: string (nullable = true)\n",
      " |-- car_parking_space: integer (nullable = true)\n",
      " |-- room_type: string (nullable = true)\n",
      " |-- lead_time: integer (nullable = true)\n",
      " |-- year: integer (nullable = true)\n",
      " |-- month: integer (nullable = true)\n",
      " |-- date: integer (nullable = true)\n",
      " |-- market_segment: string (nullable = true)\n",
      " |-- repeated_guest: integer (nullable = true)\n",
      " |-- previous_cancellations: integer (nullable = true)\n",
      " |-- previous_bookings_not_canceled: integer (nullable = true)\n",
      " |-- avg_room_price: double (nullable = true)\n",
      " |-- special_requests: integer (nullable = true)\n",
      " |-- status: string (nullable = true)\n",
      " |-- total_nights: integer (nullable = true)\n",
      " |-- total_guests: integer (nullable = true)\n",
      " |-- stay_date: date (nullable = true)\n",
      "\n",
      "+--------+--------+----------+--------------+-----------+------------+-----------------+-----------+---------+----+-----+----+--------------+--------------+----------------------+------------------------------+--------------+----------------+------------+------------+------------+----------+\n",
      "|      ID|n_adults|n_children|weekend_nights|week_nights|   meal_plan|car_parking_space|  room_type|lead_time|year|month|date|market_segment|repeated_guest|previous_cancellations|previous_bookings_not_canceled|avg_room_price|special_requests|      status|total_nights|total_guests| stay_date|\n",
      "+--------+--------+----------+--------------+-----------+------------+-----------------+-----------+---------+----+-----+----+--------------+--------------+----------------------+------------------------------+--------------+----------------+------------+------------+------------+----------+\n",
      "|INN00001|       2|         0|             1|          2| Meal Plan 1|                0|Room_Type 1|      224|2017|   10|   2|       Offline|             0|                     0|                             0|          65.0|               0|Not_Canceled|           3|           2|2017-10-02|\n",
      "|INN00002|       2|         0|             2|          3|Not Selected|                0|Room_Type 1|        5|2018|   11|   6|        Online|             0|                     0|                             0|        106.68|               1|Not_Canceled|           5|           2|2018-11-06|\n",
      "|INN00003|       1|         0|             2|          1| Meal Plan 1|                0|Room_Type 1|        1|2018|    2|  28|        Online|             0|                     0|                             0|          60.0|               0|    Canceled|           3|           1|2018-02-28|\n",
      "|INN00004|       2|         0|             0|          2| Meal Plan 1|                0|Room_Type 1|      211|2018|    5|  20|        Online|             0|                     0|                             0|         100.0|               0|    Canceled|           2|           2|2018-05-20|\n",
      "|INN00005|       2|         0|             1|          1|Not Selected|                0|Room_Type 1|       48|2018|    4|  11|        Online|             0|                     0|                             0|          94.5|               0|    Canceled|           2|           2|2018-04-11|\n",
      "+--------+--------+----------+--------------+-----------+------------+-----------------+-----------+---------+----+-----+----+--------------+--------------+----------------------+------------------------------+--------------+----------------+------------+------------+------------+----------+\n",
      "only showing top 5 rows\n",
      "\n"
     ]
    }
   ],
   "source": [
    "from pyspark.sql.functions import (\n",
    "    col, lpad, concat_ws, to_date, when,\n",
    "    sequence, explode, lit, avg, sum as _sum,\n",
    "    count, round as _round\n",
    ")\n",
    "from pyspark.sql import functions as F\n",
    "\n",
    "\n",
    "logs_hotel = (\n",
    "    spark.read\n",
    "    .option(\"header\", True)\n",
    "    .option(\"inferSchema\", True)\n",
    "    .csv(\"data/Hotel.csv\")\n",
    "    .withColumn(\"total_nights\", col(\"weekend_nights\") + col(\"week_nights\"))\n",
    "    .withColumn(\"total_guests\", col(\"n_adults\") + col(\"n_children\"))\n",
    "    .withColumn(\n",
    "        \"stay_date\",\n",
    "        to_date(\n",
    "            concat_ws(\n",
    "                \"-\",\n",
    "                col(\"year\").cast(\"string\"),\n",
    "                lpad(col(\"month\").cast(\"string\"), 2, \"0\"),\n",
    "                lpad(col(\"date\").cast(\"string\"), 2, \"0\"),\n",
    "            ),\n",
    "            \"yyyy-MM-dd\",\n",
    "        )\n",
    "    )\n",
    "    .cache()\n",
    ")\n",
    "\n",
    "logs_hotel.printSchema()\n",
    "logs_hotel.show(5)\n"
   ]
  },
  {
   "cell_type": "markdown",
   "id": "e8538d41",
   "metadata": {},
   "source": [
    "### Календарь"
   ]
  },
  {
   "cell_type": "code",
   "execution_count": 54,
   "id": "c239b480",
   "metadata": {},
   "outputs": [
    {
     "name": "stdout",
     "output_type": "stream",
     "text": [
      "+-----------+\n",
      "|calendar_dt|\n",
      "+-----------+\n",
      "| 2017-01-01|\n",
      "| 2017-01-02|\n",
      "| 2017-01-03|\n",
      "+-----------+\n",
      "only showing top 3 rows\n",
      "\n"
     ]
    }
   ],
   "source": [
    "from datetime import date\n",
    "from pyspark.sql.functions import date_add, lit\n",
    "\n",
    "start_date = date(2017, 1, 1)\n",
    "num_days   = (date(2018, 12, 31) - start_date).days\n",
    "\n",
    "calendar_dt = (\n",
    "    spark.range(num_days + 1)\n",
    "         .select(\n",
    "             date_add(lit(str(start_date)).cast(\"date\"),\n",
    "                      col(\"id\").cast(\"int\")\n",
    "             ).alias(\"calendar_dt\")\n",
    "         )\n",
    ")\n",
    "\n",
    "calendar_dt.show(3)"
   ]
  },
  {
   "cell_type": "code",
   "execution_count": 30,
   "id": "818acacb",
   "metadata": {},
   "outputs": [
    {
     "name": "stdout",
     "output_type": "stream",
     "text": [
      "+------------------+\n",
      "|        avg_nights|\n",
      "+------------------+\n",
      "|3.0150241212956583|\n",
      "+------------------+\n",
      "\n"
     ]
    }
   ],
   "source": [
    "# (a): среднее число ночей\n",
    "avg_nights_df = logs_hotel.select(avg(\"total_nights\").alias(\"avg_nights\"))\n",
    "avg_nights_df.show()\n"
   ]
  },
  {
   "cell_type": "code",
   "execution_count": null,
   "id": "7caf96bf",
   "metadata": {},
   "outputs": [
    {
     "name": "stdout",
     "output_type": "stream",
     "text": [
      "+----+-----+----------+\n",
      "|year|month|cancel_pct|\n",
      "+----+-----+----------+\n",
      "|2017|    7|     66.94|\n",
      "|2017|    8|     18.24|\n",
      "|2017|    9|     11.04|\n",
      "|2017|   10|     15.79|\n",
      "|2017|   11|      4.17|\n",
      "|2017|   12|      2.37|\n",
      "|2018|    1|      2.37|\n",
      "|2018|    2|     25.23|\n",
      "|2018|    3|     29.69|\n",
      "|2018|    4|     36.37|\n",
      "|2018|    5|     36.49|\n",
      "|2018|    6|     40.31|\n",
      "|2018|    7|     41.89|\n",
      "|2018|    8|     46.55|\n",
      "|2018|    9|     45.78|\n",
      "|2018|   10|     46.36|\n",
      "|2018|   11|     36.35|\n",
      "|2018|   12|     18.16|\n",
      "+----+-----+----------+\n",
      "\n"
     ]
    }
   ],
   "source": [
    "# b) Кол-во отмен каждый месяц в процентах % \n",
    "cancel_rate_df = (\n",
    "    logs_hotel\n",
    "        .groupBy(\"year\", \"month\")\n",
    "        .agg(\n",
    "            F.round(F.sum(                             \n",
    "                    F.when(F.lower(\"status\") == \"canceled\", 1).otherwise(0)\n",
    "                )\n",
    "                / F.count(\"*\") * 100,              \n",
    "                2\n",
    "            ).alias(\"cancel_pct\")\n",
    "        )\n",
    "        .orderBy(\"year\", \"month\")\n",
    ")\n",
    "cancel_rate_df.show()\n"
   ]
  },
  {
   "cell_type": "code",
   "execution_count": null,
   "id": "58c72c25",
   "metadata": {},
   "outputs": [
    {
     "name": "stdout",
     "output_type": "stream",
     "text": [
      "+----+-----+--------------+------------------+\n",
      "|year|month|market_segment|           revenue|\n",
      "+----+-----+--------------+------------------+\n",
      "|2017|    7| Complementary|            111.99|\n",
      "|2017|    7|     Corporate|             455.0|\n",
      "|2017|    7|       Offline|          38860.41|\n",
      "|2017|    7|        Online| 56796.39999999999|\n",
      "|2017|    8| Complementary|              12.0|\n",
      "|2017|    8|     Corporate|14237.099999999999|\n",
      "|2017|    8|       Offline|          83050.67|\n",
      "|2017|    8|        Online|168630.25000000006|\n",
      "|2017|    9| Complementary|             456.0|\n",
      "|2017|    9|     Corporate|           23242.0|\n",
      "|2017|    9|       Offline|191068.39000000028|\n",
      "|2017|    9|        Online|254403.98999999985|\n",
      "|2017|   10| Complementary|              24.0|\n",
      "|2017|   10|     Corporate|           20756.0|\n",
      "|2017|   10|       Offline|221994.35000000012|\n",
      "|2017|   10|        Online|         234931.62|\n",
      "|2017|   11| Complementary|             237.0|\n",
      "|2017|   11|     Corporate|           8868.69|\n",
      "|2017|   11|       Offline|          54349.73|\n",
      "|2017|   11|        Online| 63791.73999999999|\n",
      "+----+-----+--------------+------------------+\n",
      "only showing top 20 rows\n",
      "\n"
     ]
    }
   ],
   "source": [
    "# c) Выручка \n",
    "revenue_df = (\n",
    "    logs_hotel\n",
    "        .filter(col(\"status\") != \"canceled\")        # берём всё, что НЕ \"canceled\"\n",
    "        .withColumn(\"booking_revenue\",\n",
    "                    col(\"avg_room_price\") * col(\"total_nights\"))\n",
    "        .groupBy(\"year\", \"month\", \"market_segment\")\n",
    "        .agg(_sum(\"booking_revenue\").alias(\"revenue\"))\n",
    "        .orderBy(\"year\", \"month\", \"market_segment\")\n",
    ")\n",
    "\n",
    "\n",
    "revenue_df.show()"
   ]
  },
  {
   "cell_type": "code",
   "execution_count": null,
   "id": "488d6a69",
   "metadata": {},
   "outputs": [
    {
     "name": "stdout",
     "output_type": "stream",
     "text": [
      "+----+-----+------------------+\n",
      "|year|month|     avg_lead_time|\n",
      "+----+-----+------------------+\n",
      "|2017|    7|146.97796143250687|\n",
      "|2017|    8| 42.25049309664694|\n",
      "|2017|    9| 56.69254093389933|\n",
      "|2017|   10| 66.25196027182436|\n",
      "|2017|   11|34.425038639876355|\n",
      "|2017|   12| 48.37823275862069|\n",
      "|2018|    1| 34.89842209072978|\n",
      "|2018|    2| 31.31338028169014|\n",
      "|2018|    3| 47.13952502120441|\n",
      "|2018|    4| 74.25255847953217|\n",
      "|2018|    5| 84.63933795227098|\n",
      "|2018|    6|100.41554792382142|\n",
      "|2018|    7|111.91317950723504|\n",
      "|2018|    8|115.65094676670239|\n",
      "|2018|    9|119.36731937879811|\n",
      "|2018|   10|124.78936545240893|\n",
      "|2018|   11| 82.41191598799828|\n",
      "|2018|   12| 87.50979455327281|\n",
      "+----+-----+------------------+\n",
      "\n"
     ]
    }
   ],
   "source": [
    "# d) Среднее время между бр-м и заездом\n",
    "lead_time_df = (\n",
    "    logs_hotel\n",
    "    .groupBy(\"year\", \"month\")\n",
    "    .agg(avg(\"lead_time\").alias(\"avg_lead_time\"))\n",
    "    .orderBy(\"year\", \"month\")\n",
    ")\n",
    "lead_time_df.show()\n"
   ]
  },
  {
   "cell_type": "code",
   "execution_count": 58,
   "id": "f595e830",
   "metadata": {},
   "outputs": [
    {
     "name": "stdout",
     "output_type": "stream",
     "text": [
      "+----------+------+\n",
      "| stay_date|guests|\n",
      "+----------+------+\n",
      "|2017-10-16|   441|\n",
      "|2018-05-13|   412|\n",
      "|2018-10-13|   393|\n",
      "|2018-03-25|   385|\n",
      "|2018-09-15|   369|\n",
      "|2017-09-18|   366|\n",
      "|2017-08-14|   365|\n",
      "|2018-06-17|   362|\n",
      "|2018-04-06|   358|\n",
      "|2018-11-04|   343|\n",
      "|2018-09-26|   342|\n",
      "|2018-06-26|   326|\n",
      "|2018-06-15|   326|\n",
      "|2018-12-27|   325|\n",
      "|2018-06-02|   318|\n",
      "|2018-06-08|   309|\n",
      "|2018-10-16|   305|\n",
      "|2018-10-28|   303|\n",
      "|2018-06-24|   299|\n",
      "|2018-12-08|   298|\n",
      "|2018-10-14|   288|\n",
      "|2018-08-08|   287|\n",
      "|2018-10-07|   286|\n",
      "|2018-10-29|   286|\n",
      "|2018-09-30|   285|\n",
      "|2018-12-02|   284|\n",
      "|2018-05-20|   284|\n",
      "|2018-11-03|   283|\n",
      "|2018-10-12|   282|\n",
      "|2018-07-23|   277|\n",
      "|2018-08-19|   276|\n",
      "|2018-06-20|   275|\n",
      "|2018-10-03|   271|\n",
      "|2018-08-13|   268|\n",
      "|2018-10-30|   268|\n",
      "|2018-07-21|   268|\n",
      "|2018-05-21|   267|\n",
      "|2018-08-01|   266|\n",
      "|2018-11-25|   266|\n",
      "|2018-04-22|   264|\n",
      "|2018-11-11|   262|\n",
      "|2018-11-18|   260|\n",
      "|2018-09-08|   257|\n",
      "|2018-08-22|   255|\n",
      "|2018-09-19|   252|\n",
      "|2018-03-20|   252|\n",
      "|2018-09-16|   250|\n",
      "|2018-07-30|   249|\n",
      "|2018-04-17|   246|\n",
      "|2018-09-05|   245|\n",
      "+----------+------+\n",
      "only showing top 50 rows\n",
      "\n"
     ]
    }
   ],
   "source": [
    "# e) Кол-во гостей в день\n",
    "per_day_guests_df = (\n",
    "    logs_hotel\n",
    "    .filter(col(\"stay_date\").isNotNull())\n",
    "    .groupBy(\"stay_date\")\n",
    "    .agg(_sum(\"total_guests\").alias(\"guests\"))\n",
    "    .orderBy(col(\"guests\").desc())\n",
    ")\n",
    "per_day_guests_df.show(50)\n"
   ]
  },
  {
   "cell_type": "code",
   "execution_count": 59,
   "id": "a6e25364",
   "metadata": {},
   "outputs": [],
   "source": [
    "spark.stop()\n"
   ]
  }
 ],
 "metadata": {
  "kernelspec": {
   "display_name": ".venv",
   "language": "python",
   "name": "python3"
  },
  "language_info": {
   "codemirror_mode": {
    "name": "ipython",
    "version": 3
   },
   "file_extension": ".py",
   "mimetype": "text/x-python",
   "name": "python",
   "nbconvert_exporter": "python",
   "pygments_lexer": "ipython3",
   "version": "3.12.10"
  }
 },
 "nbformat": 4,
 "nbformat_minor": 5
}
